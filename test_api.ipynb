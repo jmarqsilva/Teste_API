{
 "cells": [
  {
   "cell_type": "code",
   "execution_count": 2,
   "metadata": {},
   "outputs": [],
   "source": [
    "import requests\n",
    "import numpy"
   ]
  },
  {
   "cell_type": "code",
   "execution_count": 12,
   "metadata": {},
   "outputs": [
    {
     "name": "stdout",
     "output_type": "stream",
     "text": [
      "200\n"
     ]
    }
   ],
   "source": [
    "def test_get_all_ethnicities():\n",
    "    url = 'https://run.mocky.io/v3/92d2ad34-7b52-4590-95e6-1f6b63d0c4fb/books/1'\n",
    "    response = requests.get(url)\n",
    "    \n",
    "    ##assert that the status is equals 200\n",
    "    assert response.status_code == 200\n",
    "    \n",
    "    ##assert that the response is a JSON Object\n",
    "    assert response.headers[\"Content-Type\"] == \"application/json; charset=UTF-8\"\n",
    "     \n",
    "    #assert that the response contais a book object \n",
    "    assert isinstance(response.json(),dict)\n",
    "\n",
    "    print(response.status_code)\n",
    "\n",
    "get_all_ethnicities()"
   ]
  },
  {
   "cell_type": "code",
   "execution_count": null,
   "metadata": {},
   "outputs": [],
   "source": []
  }
 ],
 "metadata": {
  "kernelspec": {
   "display_name": "base",
   "language": "python",
   "name": "python3"
  },
  "language_info": {
   "codemirror_mode": {
    "name": "ipython",
    "version": 3
   },
   "file_extension": ".py",
   "mimetype": "text/x-python",
   "name": "python",
   "nbconvert_exporter": "python",
   "pygments_lexer": "ipython3",
   "version": "3.11.4"
  }
 },
 "nbformat": 4,
 "nbformat_minor": 2
}
